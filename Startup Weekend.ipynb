{
 "cells": [
  {
   "cell_type": "markdown",
   "metadata": {},
   "source": [
    "# Startup Weekend 2016\n",
    "- Dates: January 15-17, 2016\n",
    "- Location: Cal Poly SLO Advanced Technology Lab\n",
    "- Organizers: CPE (Cal Poly Entrepreneurs)"
   ]
  },
  {
   "cell_type": "markdown",
   "metadata": {},
   "source": [
    "## What is Startup Weekend?\n",
    "\n",
    "Startup Weekend is a global grassroots movement of powerful entrepreneurs solving the world’s problems. With over 400 past events in 100 countries around the world, Startup Weekend is the first step to becoming an entrepreneur.\n",
    "\n",
    "It's one long weekend filled with networking, brainstorming, eating, and hustling. Come pitch your ideas (or yourself) on Friday, form teams and build businesses all weekend, and pitch to judges on Sunday night. If you’re special, you might just get funded!"
   ]
  },
  {
   "cell_type": "markdown",
   "metadata": {},
   "source": [
    "## Who should attend?\n",
    "\n",
    "So who should come out to the event? EVERYONE. Whether you’re studying computer science, marketing, graphic design, agriculture, biomedical science, architecture, wine/viticulture, or journalism, you’re welcome at Startup Weekend.\n",
    "\n"
   ]
  },
  {
   "cell_type": "markdown",
   "metadata": {},
   "source": [
    "## A glimpse of the Friday night\n",
    "\n",
    "Students got things rolling. Enthusiasm abounds.\n",
    "![Startup Weekend begins at Cal Poly](images/tweetphoto.jpg \"Startup Weekend begins at Cal Poly\")\n"
   ]
  },
  {
   "cell_type": "code",
   "execution_count": null,
   "metadata": {
    "collapsed": true
   },
   "outputs": [],
   "source": []
  }
 ],
 "metadata": {
  "kernelspec": {
   "display_name": "Python 3",
   "language": "python",
   "name": "python3"
  },
  "language_info": {
   "codemirror_mode": {
    "name": "ipython",
    "version": 3
   },
   "file_extension": ".py",
   "mimetype": "text/x-python",
   "name": "python",
   "nbconvert_exporter": "python",
   "pygments_lexer": "ipython3",
   "version": "3.5.1"
  }
 },
 "nbformat": 4,
 "nbformat_minor": 0
}
